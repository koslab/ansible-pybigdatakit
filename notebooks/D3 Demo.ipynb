{
 "cells": [
  {
   "cell_type": "markdown",
   "metadata": {
    "collapsed": false
   },
   "source": [
    "# D3 Demonstration\n",
    "\n",
    "This notebook is meant to demonstrate integration capabilities with D3"
   ]
  },
  {
   "cell_type": "code",
   "execution_count": 1,
   "metadata": {
    "collapsed": false
   },
   "outputs": [
    {
     "data": {
      "application/javascript": [
       "\n",
       "// Initialize requirejs\n",
       "\n",
       "require.config({\n",
       "  paths: {\n",
       "      d3: '//cdnjs.cloudflare.com/ajax/libs/d3/3.5.6/d3.min',\n",
       "      nvd3: '//cdnjs.cloudflare.com/ajax/libs/nvd3/1.8.1/nv.d3.min'\n",
       "  },\n",
       "  shim: {\n",
       "      d3: { exports: 'd3'},\n",
       "      nvd3: {\n",
       "          exports: 'nv'\n",
       "      }\n",
       "  }\n",
       "});"
      ],
      "text/plain": [
       "<IPython.core.display.Javascript object>"
      ]
     },
     "metadata": {},
     "output_type": "display_data"
    }
   ],
   "source": [
    "%%javascript \n",
    "\n",
    "// Initialize requirejs\n",
    "\n",
    "require.config({\n",
    "  paths: {\n",
    "      d3: '//cdnjs.cloudflare.com/ajax/libs/d3/3.5.6/d3.min',\n",
    "      nvd3: '//cdnjs.cloudflare.com/ajax/libs/nvd3/1.8.1/nv.d3.min'\n",
    "  },\n",
    "  shim: {\n",
    "      d3: { exports: 'd3'},\n",
    "      nvd3: {\n",
    "          exports: 'nv'\n",
    "      }\n",
    "  }\n",
    "});"
   ]
  },
  {
   "cell_type": "code",
   "execution_count": 2,
   "metadata": {
    "collapsed": false
   },
   "outputs": [],
   "source": [
    "import random\n",
    "\n",
    "values = []\n",
    "for i in range(0,20):\n",
    "    d = {'label': 'Item %s' % i}\n",
    "    d['value'] = random.randint(0,400)\n",
    "    values.append(d)\n",
    "\n",
    "data = {\n",
    "    \"key\": \"Cumulative Return\",\n",
    "    \"values\": values\n",
    "}"
   ]
  },
  {
   "cell_type": "code",
   "execution_count": 3,
   "metadata": {
    "collapsed": false
   },
   "outputs": [
    {
     "data": {
      "application/javascript": [
       "\n",
       "    window.vizObj =  [{\"values\": [{\"value\": 112, \"label\": \"Item 0\"}, {\"value\": 365, \"label\": \"Item 1\"}, {\"value\": 247, \"label\": \"Item 2\"}, {\"value\": 235, \"label\": \"Item 3\"}, {\"value\": 348, \"label\": \"Item 4\"}, {\"value\": 353, \"label\": \"Item 5\"}, {\"value\": 323, \"label\": \"Item 6\"}, {\"value\": 21, \"label\": \"Item 7\"}, {\"value\": 357, \"label\": \"Item 8\"}, {\"value\": 2, \"label\": \"Item 9\"}, {\"value\": 378, \"label\": \"Item 10\"}, {\"value\": 400, \"label\": \"Item 11\"}, {\"value\": 74, \"label\": \"Item 12\"}, {\"value\": 55, \"label\": \"Item 13\"}, {\"value\": 211, \"label\": \"Item 14\"}, {\"value\": 7, \"label\": \"Item 15\"}, {\"value\": 309, \"label\": \"Item 16\"}, {\"value\": 41, \"label\": \"Item 17\"}, {\"value\": 75, \"label\": \"Item 18\"}, {\"value\": 79, \"label\": \"Item 19\"}], \"key\": \"Cumulative Return\"}]\n"
      ],
      "text/plain": [
       "<IPython.core.display.Javascript object>"
      ]
     },
     "execution_count": 3,
     "metadata": {},
     "output_type": "execute_result"
    }
   ],
   "source": [
    "# Load data into window\n",
    "\n",
    "from IPython.display import Javascript\n",
    "import json\n",
    "\n",
    "Javascript(\"\"\"\n",
    "    window.vizObj =  [%s]\n",
    "\"\"\" % json.dumps(data))"
   ]
  },
  {
   "cell_type": "code",
   "execution_count": 4,
   "metadata": {
    "collapsed": false
   },
   "outputs": [
    {
     "data": {
      "application/javascript": [
       "\n",
       "element.append(\"<div id='chart'><svg style='width:80%;height:300px'></svg></div>\");\n",
       "\n",
       "require(['d3'], function (d3) {\n",
       "    window.d3 = d3;\n",
       "    require(['nvd3'], function (nv) {\n",
       "\n",
       "        nv.addGraph(function() {\n",
       "          var chart = nv.models.discreteBarChart()\n",
       "              .x(function(d) { return d.label })    //Specify the data accessors.\n",
       "              .y(function(d) { return d.value })\n",
       "              .staggerLabels(true)    //Too many bars and not enough room? Try staggering labels.\n",
       "              .tooltips(false)        //Don't show tooltips\n",
       "              .showValues(true)       //...instead, show the bar value right on top of each bar.\n",
       "              .duration(350)\n",
       "              ;\n",
       "\n",
       "          d3.select('#chart svg')\n",
       "              .datum(vizObj)\n",
       "              .call(chart);\n",
       "\n",
       "          nv.utils.windowResize(chart.update);\n",
       "\n",
       "          return chart;\n",
       "        });\n",
       "        \n",
       "    }) \n",
       "});"
      ],
      "text/plain": [
       "<IPython.core.display.Javascript object>"
      ]
     },
     "metadata": {},
     "output_type": "display_data"
    }
   ],
   "source": [
    "%%javascript\n",
    "\n",
    "element.append(\"<div id='chart'><svg style='width:80%;height:300px'></svg></div>\");\n",
    "\n",
    "require(['d3'], function (d3) {\n",
    "    window.d3 = d3;\n",
    "    require(['nvd3'], function (nv) {\n",
    "\n",
    "        nv.addGraph(function() {\n",
    "          var chart = nv.models.discreteBarChart()\n",
    "              .x(function(d) { return d.label })    //Specify the data accessors.\n",
    "              .y(function(d) { return d.value })\n",
    "              .staggerLabels(true)    //Too many bars and not enough room? Try staggering labels.\n",
    "              .tooltips(false)        //Don't show tooltips\n",
    "              .showValues(true)       //...instead, show the bar value right on top of each bar.\n",
    "              .duration(350)\n",
    "              ;\n",
    "\n",
    "          d3.select('#chart svg')\n",
    "              .datum(vizObj)\n",
    "              .call(chart);\n",
    "\n",
    "          nv.utils.windowResize(chart.update);\n",
    "\n",
    "          return chart;\n",
    "        });\n",
    "        \n",
    "    }) \n",
    "});"
   ]
  },
  {
   "cell_type": "code",
   "execution_count": null,
   "metadata": {
    "collapsed": true
   },
   "outputs": [],
   "source": []
  }
 ],
 "metadata": {
  "kernelspec": {
   "display_name": "PySpark (Spark 1.3.1)",
   "language": "python",
   "name": "pyspark"
  },
  "language_info": {
   "codemirror_mode": {
    "name": "ipython",
    "version": 2
   },
   "file_extension": ".py",
   "mimetype": "text/x-python",
   "name": "python",
   "nbconvert_exporter": "python",
   "pygments_lexer": "ipython2",
   "version": "2.7.10"
  }
 },
 "nbformat": 4,
 "nbformat_minor": 0
}
