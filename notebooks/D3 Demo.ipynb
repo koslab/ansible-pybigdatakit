{
 "cells": [
  {
   "cell_type": "markdown",
   "metadata": {
    "collapsed": false
   },
   "source": [
    "# D3 Demonstration\n",
    "\n",
    "This notebook is meant to demonstrate integration capabilities with D3. This platform includes D3.js, NVD3.js and Dimple.js for visualization. Following example shows a simple NVD3 bar chart."
   ]
  },
  {
   "cell_type": "code",
   "execution_count": null,
   "metadata": {
    "collapsed": false
   },
   "outputs": [],
   "source": [
    "from IPython.display import Javascript\n",
    "import json\n",
    "import random\n",
    "\n",
    "values = []\n",
    "for i in range(0,20):\n",
    "    d = {'label': 'Item %s' % i}\n",
    "    d['value'] = random.randint(0,400)\n",
    "    values.append(d)\n",
    "\n",
    "# Load data into window\n",
    "\n",
    "Javascript(\"window.vizObj =  %s\" % json.dumps(values))"
   ]
  },
  {
   "cell_type": "code",
   "execution_count": null,
   "metadata": {
    "collapsed": false
   },
   "outputs": [],
   "source": [
    "%%javascript\n",
    "\n",
    "element.append(\"<div id='chart'><svg style='width:80%;height:300px'></svg></div>\");\n",
    "\n",
    "nv.addGraph(function() {\n",
    "  var chart = nv.models.discreteBarChart()\n",
    "      .x(function(d) { return d.label })    //Specify the data accessors.\n",
    "      .y(function(d) { return d.value })\n",
    "      .staggerLabels(true)    //Too many bars and not enough room? Try staggering labels.\n",
    "      .tooltips(false)        //Don't show tooltips\n",
    "      .showValues(true)       //...instead, show the bar value right on top of each bar.\n",
    "      .duration(350)\n",
    "      ;\n",
    "  d3.select('#chart svg')\n",
    "      .datum([{\n",
    "          'key': 'Cumulative Return',\n",
    "          'values': vizObj\n",
    "      }])\n",
    "      .call(chart);\n",
    "\n",
    "  nv.utils.windowResize(chart.update);\n",
    "\n",
    "  return chart;\n",
    "});"
   ]
  },
  {
   "cell_type": "code",
   "execution_count": null,
   "metadata": {
    "collapsed": false
   },
   "outputs": [],
   "source": [
    "%%javascript\n",
    "\n",
    "element.append(\"<div id='chartContainer'></div>\");\n",
    "\n",
    "setTimeout(function (){ // workaround because theres no way to run this after append is complete\n",
    "    var svg = dimple.newSvg(\"#chartContainer\", 590, 400);\n",
    "    var myChart = new dimple.chart(svg, vizObj);\n",
    "    myChart.setBounds(60, 30, 510, 305)\n",
    "    myChart.addCategoryAxis(\"x\", \"label\");\n",
    "    myChart.addMeasureAxis(\"y\", \"value\");\n",
    "    myChart.addSeries(null, dimple.plot.bar);\n",
    "    myChart.draw();\n",
    "}, 1);\n"
   ]
  }
 ],
 "metadata": {
  "kernelspec": {
   "display_name": "PySpark (Spark 1.3.1)",
   "language": "python",
   "name": "pyspark"
  },
  "language_info": {
   "codemirror_mode": {
    "name": "ipython",
    "version": 2
   },
   "file_extension": ".py",
   "mimetype": "text/x-python",
   "name": "python",
   "nbconvert_exporter": "python",
   "pygments_lexer": "ipython2",
   "version": "2.7.10"
  }
 },
 "nbformat": 4,
 "nbformat_minor": 0
}
