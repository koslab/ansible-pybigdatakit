{
 "cells": [
  {
   "cell_type": "markdown",
   "metadata": {
    "collapsed": false
   },
   "source": [
    "# D3 Demonstration\n",
    "\n",
    "This notebook is meant to demonstrate integration capabilities with D3"
   ]
  },
  {
   "cell_type": "code",
   "execution_count": 1,
   "metadata": {
    "collapsed": false
   },
   "outputs": [],
   "source": [
    "import random\n",
    "\n",
    "values = []\n",
    "for i in range(0,20):\n",
    "    d = {'label': 'Item %s' % i}\n",
    "    d['value'] = random.randint(0,400)\n",
    "    values.append(d)\n",
    "\n",
    "data = {\n",
    "    \"key\": \"Cumulative Return\",\n",
    "    \"values\": values\n",
    "}"
   ]
  },
  {
   "cell_type": "code",
   "execution_count": 2,
   "metadata": {
    "collapsed": false
   },
   "outputs": [
    {
     "data": {
      "application/javascript": [
       "\n",
       "    window.vizObj =  [{\"values\": [{\"value\": 168, \"label\": \"Item 0\"}, {\"value\": 157, \"label\": \"Item 1\"}, {\"value\": 96, \"label\": \"Item 2\"}, {\"value\": 382, \"label\": \"Item 3\"}, {\"value\": 60, \"label\": \"Item 4\"}, {\"value\": 328, \"label\": \"Item 5\"}, {\"value\": 263, \"label\": \"Item 6\"}, {\"value\": 387, \"label\": \"Item 7\"}, {\"value\": 289, \"label\": \"Item 8\"}, {\"value\": 44, \"label\": \"Item 9\"}, {\"value\": 305, \"label\": \"Item 10\"}, {\"value\": 335, \"label\": \"Item 11\"}, {\"value\": 347, \"label\": \"Item 12\"}, {\"value\": 319, \"label\": \"Item 13\"}, {\"value\": 373, \"label\": \"Item 14\"}, {\"value\": 179, \"label\": \"Item 15\"}, {\"value\": 328, \"label\": \"Item 16\"}, {\"value\": 392, \"label\": \"Item 17\"}, {\"value\": 124, \"label\": \"Item 18\"}, {\"value\": 266, \"label\": \"Item 19\"}], \"key\": \"Cumulative Return\"}]\n"
      ],
      "text/plain": [
       "<IPython.core.display.Javascript object>"
      ]
     },
     "execution_count": 2,
     "metadata": {},
     "output_type": "execute_result"
    }
   ],
   "source": [
    "# Load data into window\n",
    "\n",
    "from IPython.display import Javascript\n",
    "import json\n",
    "\n",
    "Javascript(\"\"\"\n",
    "    window.vizObj =  [%s]\n",
    "\"\"\" % json.dumps(data))"
   ]
  },
  {
   "cell_type": "code",
   "execution_count": 3,
   "metadata": {
    "collapsed": false
   },
   "outputs": [
    {
     "data": {
      "application/javascript": [
       "\n",
       "element.append(\"<div id='chart'><svg style='width:80%;height:300px'></svg></div>\");\n",
       "\n",
       "nv.addGraph(function() {\n",
       "  var chart = nv.models.discreteBarChart()\n",
       "      .x(function(d) { return d.label })    //Specify the data accessors.\n",
       "      .y(function(d) { return d.value })\n",
       "      .staggerLabels(true)    //Too many bars and not enough room? Try staggering labels.\n",
       "      .tooltips(false)        //Don't show tooltips\n",
       "      .showValues(true)       //...instead, show the bar value right on top of each bar.\n",
       "      .duration(350)\n",
       "      ;\n",
       "\n",
       "  d3.select('#chart svg')\n",
       "      .datum(vizObj)\n",
       "      .call(chart);\n",
       "\n",
       "  nv.utils.windowResize(chart.update);\n",
       "\n",
       "  return chart;\n",
       "});"
      ],
      "text/plain": [
       "<IPython.core.display.Javascript object>"
      ]
     },
     "metadata": {},
     "output_type": "display_data"
    }
   ],
   "source": [
    "%%javascript\n",
    "\n",
    "element.append(\"<div id='chart'><svg style='width:80%;height:300px'></svg></div>\");\n",
    "\n",
    "nv.addGraph(function() {\n",
    "  var chart = nv.models.discreteBarChart()\n",
    "      .x(function(d) { return d.label })    //Specify the data accessors.\n",
    "      .y(function(d) { return d.value })\n",
    "      .staggerLabels(true)    //Too many bars and not enough room? Try staggering labels.\n",
    "      .tooltips(false)        //Don't show tooltips\n",
    "      .showValues(true)       //...instead, show the bar value right on top of each bar.\n",
    "      .duration(350)\n",
    "      ;\n",
    "\n",
    "  d3.select('#chart svg')\n",
    "      .datum(vizObj)\n",
    "      .call(chart);\n",
    "\n",
    "  nv.utils.windowResize(chart.update);\n",
    "\n",
    "  return chart;\n",
    "});\n"
   ]
  },
  {
   "cell_type": "code",
   "execution_count": null,
   "metadata": {
    "collapsed": true
   },
   "outputs": [],
   "source": []
  }
 ],
 "metadata": {
  "kernelspec": {
   "display_name": "PySpark (Spark 1.3.1)",
   "language": "python",
   "name": "pyspark"
  },
  "language_info": {
   "codemirror_mode": {
    "name": "ipython",
    "version": 2
   },
   "file_extension": ".py",
   "mimetype": "text/x-python",
   "name": "python",
   "nbconvert_exporter": "python",
   "pygments_lexer": "ipython2",
   "version": "2.7.10"
  }
 },
 "nbformat": 4,
 "nbformat_minor": 0
}
