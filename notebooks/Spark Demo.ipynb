{
 "cells": [
  {
   "cell_type": "code",
   "execution_count": null,
   "metadata": {
    "collapsed": false,
    "scrolled": true
   },
   "outputs": [],
   "source": [
    "import urllib\n",
    "from pyspark.sql.types import *\n",
    "from IPython.display import Javascript\n",
    "import json\n",
    "\n",
    "bankText = sc.parallelize(urllib.urlopen('https://s3.amazonaws.com/apache-zeppelin/tutorial/bank/bank.csv'))\n",
    "bank = bankText.map(lambda s: s.split(\";\")).filter(lambda s: s[0] != \"\\\"age\\\"\").map(lambda s:\n",
    "        (int(s[0]), \n",
    "            s[1].replace(\"\\\"\", \"\"),\n",
    "            s[2].replace(\"\\\"\", \"\"),\n",
    "            s[3].replace(\"\\\"\", \"\"),\n",
    "            int(s[5].replace(\"\\\"\", \"\"))\n",
    "         )\n",
    ")\n",
    "\n",
    "# age: Integer, job: String, marital: String, education: String, balance: Integer\n",
    "Bank = StructType([\n",
    "        StructField('age', IntegerType(), True), \n",
    "        StructField('job', StringType(), True),\n",
    "        StructField('marital', StringType(), True),\n",
    "        StructField('education', StringType(), True),\n",
    "        StructField('balance', IntegerType(), True)\n",
    "    ])\n",
    "bankDF = sqlContext.createDataFrame(bank, Bank)\n",
    "bankDF.registerTempTable(\"bank\")\n",
    "\n",
    "\n",
    "values = sqlContext.sql(\"\"\"\n",
    "    select age, count(1) value\n",
    "    from bank \n",
    "    where age > 10\n",
    "    group by age \n",
    "    order by age\n",
    "\"\"\")\n",
    "\n",
    "values = values.map(lambda x: x.asDict()).collect()\n",
    "\n",
    "Javascript(\"window.vizObj = %s\" % json.dumps(values))\n"
   ]
  },
  {
   "cell_type": "code",
   "execution_count": null,
   "metadata": {
    "collapsed": false
   },
   "outputs": [],
   "source": [
    "%%javascript\n",
    "\n",
    "element.append(\"<div id='chartContainer'></div>\");\n",
    "\n",
    "setTimeout(function (){ // workaround because theres no way to run this after append is complete\n",
    "    var svg = dimple.newSvg(\"#chartContainer\", 590, 400);\n",
    "    var myChart = new dimple.chart(svg, vizObj);\n",
    "    myChart.setBounds(60, 30, 510, 305)\n",
    "    myChart.addCategoryAxis(\"x\", \"age\");\n",
    "    myChart.addMeasureAxis(\"y\", \"value\");\n",
    "    myChart.addSeries(null, dimple.plot.bar);\n",
    "    myChart.draw();\n",
    "}, 1);"
   ]
  }
 ],
 "metadata": {
  "kernelspec": {
   "display_name": "PySpark (Spark 1.3.1)",
   "language": "python",
   "name": "pyspark"
  },
  "language_info": {
   "codemirror_mode": {
    "name": "ipython",
    "version": 2
   },
   "file_extension": ".py",
   "mimetype": "text/x-python",
   "name": "python",
   "nbconvert_exporter": "python",
   "pygments_lexer": "ipython2",
   "version": "2.7.10"
  }
 },
 "nbformat": 4,
 "nbformat_minor": 0
}
